{
 "cells": [
  {
   "cell_type": "code",
   "execution_count": 1,
   "metadata": {},
   "outputs": [
    {
     "name": "stdout",
     "output_type": "stream",
     "text": [
      "Collecting boto3\n",
      "  Downloading boto3-1.18.65-py3-none-any.whl (131 kB)\n",
      "Collecting botocore<1.22.0,>=1.21.65\n",
      "  Downloading botocore-1.21.65-py3-none-any.whl (8.0 MB)\n",
      "Collecting jmespath<1.0.0,>=0.7.1\n",
      "  Downloading jmespath-0.10.0-py2.py3-none-any.whl (24 kB)\n",
      "Collecting s3transfer<0.6.0,>=0.5.0\n",
      "  Downloading s3transfer-0.5.0-py3-none-any.whl (79 kB)\n",
      "Requirement already satisfied: python-dateutil<3.0.0,>=2.1 in d:\\anaconda3\\lib\\site-packages (from botocore<1.22.0,>=1.21.65->boto3) (2.8.1)\n",
      "Requirement already satisfied: urllib3<1.27,>=1.25.4 in d:\\anaconda3\\lib\\site-packages (from botocore<1.22.0,>=1.21.65->boto3) (1.25.10)\n",
      "Requirement already satisfied: six>=1.5 in d:\\anaconda3\\lib\\site-packages (from python-dateutil<3.0.0,>=2.1->botocore<1.22.0,>=1.21.65->boto3) (1.15.0)\n",
      "Installing collected packages: jmespath, botocore, s3transfer, boto3\n",
      "Successfully installed boto3-1.18.65 botocore-1.21.65 jmespath-0.10.0 s3transfer-0.5.0\n"
     ]
    },
    {
     "name": "stderr",
     "output_type": "stream",
     "text": [
      "WARNING: You are using pip version 20.2.2; however, version 21.3 is available.\n",
      "You should consider upgrading via the 'D:\\Anaconda3\\python.exe -m pip install --upgrade pip' command.\n"
     ]
    }
   ],
   "source": [
    "!pip install boto3 "
   ]
  },
  {
   "cell_type": "code",
   "execution_count": 1,
   "metadata": {},
   "outputs": [],
   "source": [
    "import boto3 "
   ]
  },
  {
   "cell_type": "code",
   "execution_count": 2,
   "metadata": {},
   "outputs": [],
   "source": [
    "s3 = boto3.resource('s3', \n",
    "    aws_access_key_id='', \n",
    "    aws_secret_access_key='' \n",
    ")"
   ]
  },
  {
   "cell_type": "code",
   "execution_count": 3,
   "metadata": {},
   "outputs": [
    {
     "name": "stdout",
     "output_type": "stream",
     "text": [
      "An error occurred (BucketAlreadyOwnedByYou) when calling the CreateBucket operation: Your previous request to create the named bucket succeeded and you already own it.\n"
     ]
    }
   ],
   "source": [
    "try: \n",
    "    s3.create_bucket(Bucket='malingzhi484', CreateBucketConfiguration={ \n",
    "        'LocationConstraint': 'us-east-2'}) \n",
    "except Exception as e: \n",
    "    print (e)"
   ]
  },
  {
   "cell_type": "code",
   "execution_count": 4,
   "metadata": {},
   "outputs": [],
   "source": [
    "bucket = s3.Bucket(\"malingzhi484\")"
   ]
  },
  {
   "cell_type": "code",
   "execution_count": 5,
   "metadata": {},
   "outputs": [
    {
     "data": {
      "text/plain": [
       "{'ResponseMetadata': {'RequestId': 'RDH2NXBVZJM228NM',\n",
       "  'HostId': 'EdJqnqK8YpU3wUaEaDKHdj74azF6Dtk/VwAbxpwMPgdXBdcqKDJOATPmdgGaEbHMnMVKHOPbJaQ=',\n",
       "  'HTTPStatusCode': 200,\n",
       "  'HTTPHeaders': {'x-amz-id-2': 'EdJqnqK8YpU3wUaEaDKHdj74azF6Dtk/VwAbxpwMPgdXBdcqKDJOATPmdgGaEbHMnMVKHOPbJaQ=',\n",
       "   'x-amz-request-id': 'RDH2NXBVZJM228NM',\n",
       "   'date': 'Wed, 20 Oct 2021 14:09:31 GMT',\n",
       "   'server': 'AmazonS3',\n",
       "   'content-length': '0'},\n",
       "  'RetryAttempts': 0}}"
      ]
     },
     "execution_count": 5,
     "metadata": {},
     "output_type": "execute_result"
    }
   ],
   "source": [
    "bucket.Acl().put(ACL='public-read')"
   ]
  },
  {
   "cell_type": "code",
   "execution_count": 6,
   "metadata": {},
   "outputs": [],
   "source": [
    "body = open('experiments.csv', 'rb')"
   ]
  },
  {
   "cell_type": "code",
   "execution_count": 7,
   "metadata": {},
   "outputs": [],
   "source": [
    "o = s3.Object('malingzhi484', 'test').put(Body=body )"
   ]
  },
  {
   "cell_type": "code",
   "execution_count": 8,
   "metadata": {},
   "outputs": [
    {
     "data": {
      "text/plain": [
       "{'ResponseMetadata': {'RequestId': 'G0BQSN3EQCKG7Q7Q',\n",
       "  'HostId': 'GlcTeMoiY9X2Ko1ZqQQ2SItbT1OxPnw3aif4DKIAXYzWFzRbbg4yDtjErTxT5PrOBIeRhed+DQ4=',\n",
       "  'HTTPStatusCode': 200,\n",
       "  'HTTPHeaders': {'x-amz-id-2': 'GlcTeMoiY9X2Ko1ZqQQ2SItbT1OxPnw3aif4DKIAXYzWFzRbbg4yDtjErTxT5PrOBIeRhed+DQ4=',\n",
       "   'x-amz-request-id': 'G0BQSN3EQCKG7Q7Q',\n",
       "   'date': 'Wed, 20 Oct 2021 14:09:39 GMT',\n",
       "   'server': 'AmazonS3',\n",
       "   'content-length': '0'},\n",
       "  'RetryAttempts': 0}}"
      ]
     },
     "execution_count": 8,
     "metadata": {},
     "output_type": "execute_result"
    }
   ],
   "source": [
    "s3.Object('malingzhi484', 'test').Acl().put(ACL='public-read')"
   ]
  },
  {
   "cell_type": "code",
   "execution_count": 9,
   "metadata": {},
   "outputs": [],
   "source": [
    "dyndb = boto3.resource('dynamodb', \n",
    "    region_name='us-west-2', \n",
    "    aws_access_key_id='', \n",
    "    aws_secret_access_key='' \n",
    " ) \n"
   ]
  },
  {
   "cell_type": "code",
   "execution_count": 10,
   "metadata": {},
   "outputs": [
    {
     "name": "stdout",
     "output_type": "stream",
     "text": [
      "An error occurred (ResourceInUseException) when calling the CreateTable operation: Table already exists: DataTable\n"
     ]
    }
   ],
   "source": [
    "try: \n",
    "    table = dyndb.create_table( \n",
    "        TableName='DataTable', \n",
    "        KeySchema=[ \n",
    "            { \n",
    "                'AttributeName': 'PartitionKey', \n",
    "                'KeyType': 'HASH' \n",
    "            }, \n",
    "            { \n",
    "                'AttributeName': 'RowKey', \n",
    "                'KeyType': 'RANGE' \n",
    "            } \n",
    "        ], \n",
    "        AttributeDefinitions=[ \n",
    "            { \n",
    "                'AttributeName': 'PartitionKey', \n",
    "                'AttributeType': 'S' \n",
    "            }, \n",
    "            { \n",
    "                'AttributeName': 'RowKey', \n",
    "                'AttributeType': 'S' \n",
    "            }, \n",
    " \n",
    "        ], \n",
    "        ProvisionedThroughput={ \n",
    "            'ReadCapacityUnits': 5, \n",
    "            'WriteCapacityUnits': 5 \n",
    "        } \n",
    "    ) \n",
    "except Exception as e: \n",
    "    print (e) \n",
    "    #if there is an exception, the table may already exist.   if so... \n",
    "    table = dyndb.Table(\"DataTable\")"
   ]
  },
  {
   "cell_type": "code",
   "execution_count": 11,
   "metadata": {},
   "outputs": [],
   "source": [
    "table.meta.client.get_waiter('table_exists').wait(TableName='DataTable')"
   ]
  },
  {
   "cell_type": "code",
   "execution_count": 12,
   "metadata": {},
   "outputs": [
    {
     "name": "stdout",
     "output_type": "stream",
     "text": [
      "0\n"
     ]
    }
   ],
   "source": [
    "print(table.item_count)"
   ]
  },
  {
   "cell_type": "code",
   "execution_count": 13,
   "metadata": {},
   "outputs": [],
   "source": [
    "import csv"
   ]
  },
  {
   "cell_type": "code",
   "execution_count": 30,
   "metadata": {
    "scrolled": true
   },
   "outputs": [
    {
     "name": "stdout",
     "output_type": "stream",
     "text": [
      "['1', '-1', '52', '3.4', 'exp1.csv']\n",
      "['2', '-2', '52.1', '3.4', 'exp2.csv']\n",
      "['3', '-2.93', '57.1', '3.7', 'exp3.csv']\n"
     ]
    }
   ],
   "source": [
    "# with open('C:\\\\Users\\\\alex\\\\Desktop\\\\jupyter\\\\experiments.csv', 'r') as csvfile: \n",
    "#     csvf = csv.reader(csvfile, delimiter=',', quotechar='|') \n",
    "#     next(csvf)\n",
    "#     for item in csvf: \n",
    "#         print(item) \n",
    "# #         body = open('c:\\users\\farag\\documents\\datafiles\\\\'+item[3], 'rb') \n",
    "#         body = open('C:\\\\Users\\\\alex\\\\Desktop\\\\jupyter\\\\'+item[4], 'rb') \n",
    "#         s3.Object('malingzhi484', item[4]).put(Body=body ) \n",
    "#         md = s3.Object('malingzhi484', item[4]).Acl().put(ACL='public-read') \n",
    "         \n",
    "#         url = \" https://s3-us-west-2.amazonaws.com/malingzhi484/\"+item[4] \n",
    "#         metadata_item = {'PartitionKey': item[0], 'RowKey': item[1],  \n",
    "#                  'Concentration' : item[3], 'Conductivity' : item[2], 'url':url}  \n",
    "#         try: \n",
    "#             table.put_item(Item=metadata_item) \n",
    "#         except: \n",
    "#             print (\"item may already be there or another failure\")"
   ]
  },
  {
   "cell_type": "code",
   "execution_count": 14,
   "metadata": {},
   "outputs": [
    {
     "name": "stdout",
     "output_type": "stream",
     "text": [
      "['1', '-1', '52', '3.4', 'exp1.csv']\n",
      "['2', '-2', '52.1', '3.4', 'exp2.csv']\n",
      "['3', '-2.93', '57.1', '3.7', 'exp3.csv']\n"
     ]
    }
   ],
   "source": [
    "with open('experiments.csv', 'r') as csvfile: \n",
    "    csvf = csv.reader(csvfile, delimiter=',', quotechar='|') \n",
    "    next(csvf)\n",
    "    for item in csvf: \n",
    "        print(item) \n",
    "#         body = open('c:\\users\\farag\\documents\\datafiles\\\\'+item[3], 'rb') \n",
    "        body = open(item[4], 'rb') \n",
    "        s3.Object('malingzhi484', item[4]).put(Body=body ) \n",
    "        md = s3.Object('malingzhi484', item[4]).Acl().put(ACL='public-read') \n",
    "         \n",
    "        url = \" https://s3-us-west-2.amazonaws.com/malingzhi484/\"+item[4] \n",
    "        metadata_item = {'PartitionKey': item[0], 'RowKey': item[1],  \n",
    "                 'Concentration' : item[3], 'Conductivity' : item[2], 'url':url}  \n",
    "        try: \n",
    "            table.put_item(Item=metadata_item) \n",
    "        except: \n",
    "            print (\"item may already be there or another failure\")"
   ]
  },
  {
   "cell_type": "code",
   "execution_count": 15,
   "metadata": {},
   "outputs": [
    {
     "name": "stdout",
     "output_type": "stream",
     "text": [
      "{'Concentration': '3.7', 'PartitionKey': '3', 'RowKey': '-2.93', 'url': ' https://s3-us-west-2.amazonaws.com/malingzhi484/exp3.csv', 'Conductivity': '57.1'}\n"
     ]
    }
   ],
   "source": [
    "response = table.get_item( \n",
    "    Key={ \n",
    "        'PartitionKey': '3', \n",
    "        'RowKey': '-2.93' \n",
    "    } \n",
    ") \n",
    "item = response['Item'] \n",
    "print(item)\n"
   ]
  },
  {
   "cell_type": "code",
   "execution_count": 32,
   "metadata": {},
   "outputs": [
    {
     "data": {
      "text/plain": [
       "{'Item': {'Concentration': '3.7',\n",
       "  'PartitionKey': '3',\n",
       "  'RowKey': '-2.93',\n",
       "  'url': ' https://s3-us-west-2.amazonaws.com/malingzhi484/exp3.csv',\n",
       "  'Conductivity': '57.1'},\n",
       " 'ResponseMetadata': {'RequestId': 'SLBU8JABVAM8D85BSR7PPPQU1NVV4KQNSO5AEMVJF66Q9ASUAAJG',\n",
       "  'HTTPStatusCode': 200,\n",
       "  'HTTPHeaders': {'server': 'Server',\n",
       "   'date': 'Wed, 20 Oct 2021 13:57:47 GMT',\n",
       "   'content-type': 'application/x-amz-json-1.0',\n",
       "   'content-length': '186',\n",
       "   'connection': 'keep-alive',\n",
       "   'x-amzn-requestid': 'SLBU8JABVAM8D85BSR7PPPQU1NVV4KQNSO5AEMVJF66Q9ASUAAJG',\n",
       "   'x-amz-crc32': '146116450'},\n",
       "  'RetryAttempts': 0}}"
      ]
     },
     "execution_count": 32,
     "metadata": {},
     "output_type": "execute_result"
    }
   ],
   "source": [
    "response"
   ]
  },
  {
   "cell_type": "code",
   "execution_count": 17,
   "metadata": {},
   "outputs": [
    {
     "name": "stdout",
     "output_type": "stream",
     "text": [
      "Items\n",
      "Count\n",
      "ScannedCount\n",
      "ResponseMetadata\n"
     ]
    },
    {
     "data": {
      "text/plain": [
       "[{'Concentration': '3.4',\n",
       "  'PartitionKey': '2',\n",
       "  'RowKey': '-2',\n",
       "  'url': ' https://s3-us-west-2.amazonaws.com/malingzhi484/exp2.csv',\n",
       "  'Conductivity': '52.1'},\n",
       " {'Concentration': '3.4',\n",
       "  'PartitionKey': '1',\n",
       "  'RowKey': '-1',\n",
       "  'url': ' https://s3-us-west-2.amazonaws.com/malingzhi484/exp1.csv',\n",
       "  'Conductivity': '52'},\n",
       " {'Concentration': '3.7',\n",
       "  'PartitionKey': '3',\n",
       "  'RowKey': '-2.93',\n",
       "  'url': ' https://s3-us-west-2.amazonaws.com/malingzhi484/exp3.csv',\n",
       "  'Conductivity': '57.1'}]"
      ]
     },
     "execution_count": 17,
     "metadata": {},
     "output_type": "execute_result"
    }
   ],
   "source": [
    "data = table.scan()\n",
    "for i in data:\n",
    "    print(i)\n",
    "data['Items']"
   ]
  },
  {
   "cell_type": "code",
   "execution_count": null,
   "metadata": {},
   "outputs": [],
   "source": []
  }
 ],
 "metadata": {
  "interpreter": {
   "hash": "a8f61be024eba58adef938c9aa1e29e02cb3dece83a5348b1a2dafd16a070453"
  },
  "kernelspec": {
   "display_name": "Python 3.7.3 64-bit ('base': conda)",
   "name": "python3"
  },
  "language_info": {
   "codemirror_mode": {
    "name": "ipython",
    "version": 3
   },
   "file_extension": ".py",
   "mimetype": "text/x-python",
   "name": "python",
   "nbconvert_exporter": "python",
   "pygments_lexer": "ipython3",
   "version": "3.7.3"
  }
 },
 "nbformat": 4,
 "nbformat_minor": 4
}
